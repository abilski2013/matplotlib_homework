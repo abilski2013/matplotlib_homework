{
 "cells": [
  {
   "cell_type": "markdown",
   "metadata": {},
   "source": [
    "## Observations and Insights"
   ]
  },
  {
   "cell_type": "markdown",
   "metadata": {},
   "source": [
    "1: The correlation between mouse weight and avg tumor size, for the mice treated w/ Capomulin regimen, is highly correlated at .842. This does not mean causation, however, one might predict to see larger tumors in heavier mice. I also ran this to see the scatter plot on all the mice, not just ones treated with Capomulin regimen: correlation is slightly lower, but still pretty high at .659. \n",
    "\n",
    "2: The capomulin regimen, over the 25 mice that were in the study, generally resulted in lower tumor volume over time in almost every test. \n",
    "\n",
    "3: There appears to be one outlier for final tumor volumes for mice treated w/ infubinol. It might be best to avoid that data point when analyzing the study and trying to draw conclusions from the data. \n",
    "\n"
   ]
  },
  {
   "cell_type": "markdown",
   "metadata": {},
   "source": [
    "## Dependencies and starter code"
   ]
  },
  {
   "cell_type": "code",
   "execution_count": 1,
   "metadata": {},
   "outputs": [
    {
     "data": {
      "text/html": [
       "<div>\n",
       "<style scoped>\n",
       "    .dataframe tbody tr th:only-of-type {\n",
       "        vertical-align: middle;\n",
       "    }\n",
       "\n",
       "    .dataframe tbody tr th {\n",
       "        vertical-align: top;\n",
       "    }\n",
       "\n",
       "    .dataframe thead th {\n",
       "        text-align: right;\n",
       "    }\n",
       "</style>\n",
       "<table border=\"1\" class=\"dataframe\">\n",
       "  <thead>\n",
       "    <tr style=\"text-align: right;\">\n",
       "      <th></th>\n",
       "      <th>Mouse ID</th>\n",
       "      <th>Timepoint</th>\n",
       "      <th>Tumor Volume (mm3)</th>\n",
       "      <th>Metastatic Sites</th>\n",
       "      <th>Drug Regimen</th>\n",
       "      <th>Sex</th>\n",
       "      <th>Age_months</th>\n",
       "      <th>Weight (g)</th>\n",
       "    </tr>\n",
       "  </thead>\n",
       "  <tbody>\n",
       "    <tr>\n",
       "      <th>0</th>\n",
       "      <td>b128</td>\n",
       "      <td>0</td>\n",
       "      <td>45.000000</td>\n",
       "      <td>0</td>\n",
       "      <td>Capomulin</td>\n",
       "      <td>Female</td>\n",
       "      <td>9</td>\n",
       "      <td>22</td>\n",
       "    </tr>\n",
       "    <tr>\n",
       "      <th>1</th>\n",
       "      <td>b128</td>\n",
       "      <td>5</td>\n",
       "      <td>45.651331</td>\n",
       "      <td>0</td>\n",
       "      <td>Capomulin</td>\n",
       "      <td>Female</td>\n",
       "      <td>9</td>\n",
       "      <td>22</td>\n",
       "    </tr>\n",
       "    <tr>\n",
       "      <th>2</th>\n",
       "      <td>b128</td>\n",
       "      <td>10</td>\n",
       "      <td>43.270852</td>\n",
       "      <td>0</td>\n",
       "      <td>Capomulin</td>\n",
       "      <td>Female</td>\n",
       "      <td>9</td>\n",
       "      <td>22</td>\n",
       "    </tr>\n",
       "    <tr>\n",
       "      <th>3</th>\n",
       "      <td>b128</td>\n",
       "      <td>15</td>\n",
       "      <td>43.784893</td>\n",
       "      <td>0</td>\n",
       "      <td>Capomulin</td>\n",
       "      <td>Female</td>\n",
       "      <td>9</td>\n",
       "      <td>22</td>\n",
       "    </tr>\n",
       "    <tr>\n",
       "      <th>4</th>\n",
       "      <td>b128</td>\n",
       "      <td>20</td>\n",
       "      <td>42.731552</td>\n",
       "      <td>0</td>\n",
       "      <td>Capomulin</td>\n",
       "      <td>Female</td>\n",
       "      <td>9</td>\n",
       "      <td>22</td>\n",
       "    </tr>\n",
       "  </tbody>\n",
       "</table>\n",
       "</div>"
      ],
      "text/plain": [
       "  Mouse ID  Timepoint  Tumor Volume (mm3)  Metastatic Sites Drug Regimen  \\\n",
       "0     b128          0           45.000000                 0    Capomulin   \n",
       "1     b128          5           45.651331                 0    Capomulin   \n",
       "2     b128         10           43.270852                 0    Capomulin   \n",
       "3     b128         15           43.784893                 0    Capomulin   \n",
       "4     b128         20           42.731552                 0    Capomulin   \n",
       "\n",
       "      Sex  Age_months  Weight (g)  \n",
       "0  Female           9          22  \n",
       "1  Female           9          22  \n",
       "2  Female           9          22  \n",
       "3  Female           9          22  \n",
       "4  Female           9          22  "
      ]
     },
     "execution_count": 1,
     "metadata": {},
     "output_type": "execute_result"
    }
   ],
   "source": [
    "# Dependencies and Setup\n",
    "import matplotlib.pyplot as plt\n",
    "import pandas as pd\n",
    "import scipy.stats as st\n",
    "import numpy as np\n",
    "\n",
    "# Study data files\n",
    "mouse_metadata = \"data/Mouse_metadata.csv\"\n",
    "study_results = \"data/Study_results.csv\"\n",
    "\n",
    "# Read the mouse data and the study results\n",
    "mouse_metadata = pd.read_csv(mouse_metadata)\n",
    "study_results = pd.read_csv(study_results)\n",
    "\n",
    "# Combine the data into a single dataset\n",
    "merged_df = pd.merge(study_results, mouse_metadata, on=\"Mouse ID\", how=\"outer\")\n",
    "merged_df.head()\n"
   ]
  },
  {
   "cell_type": "markdown",
   "metadata": {},
   "source": [
    "## Summary statistics"
   ]
  },
  {
   "cell_type": "code",
   "execution_count": 2,
   "metadata": {},
   "outputs": [
    {
     "data": {
      "text/html": [
       "<div>\n",
       "<style scoped>\n",
       "    .dataframe tbody tr th:only-of-type {\n",
       "        vertical-align: middle;\n",
       "    }\n",
       "\n",
       "    .dataframe tbody tr th {\n",
       "        vertical-align: top;\n",
       "    }\n",
       "\n",
       "    .dataframe thead th {\n",
       "        text-align: right;\n",
       "    }\n",
       "</style>\n",
       "<table border=\"1\" class=\"dataframe\">\n",
       "  <thead>\n",
       "    <tr style=\"text-align: right;\">\n",
       "      <th></th>\n",
       "      <th>Mean</th>\n",
       "      <th>Median</th>\n",
       "      <th>Variance</th>\n",
       "      <th>Std Dev</th>\n",
       "      <th>SEM</th>\n",
       "    </tr>\n",
       "    <tr>\n",
       "      <th>Drug Regimen</th>\n",
       "      <th></th>\n",
       "      <th></th>\n",
       "      <th></th>\n",
       "      <th></th>\n",
       "      <th></th>\n",
       "    </tr>\n",
       "  </thead>\n",
       "  <tbody>\n",
       "    <tr>\n",
       "      <th>Capomulin</th>\n",
       "      <td>40.675741</td>\n",
       "      <td>41.557809</td>\n",
       "      <td>24.947764</td>\n",
       "      <td>4.994774</td>\n",
       "      <td>0.329346</td>\n",
       "    </tr>\n",
       "    <tr>\n",
       "      <th>Ceftamin</th>\n",
       "      <td>52.591172</td>\n",
       "      <td>51.776157</td>\n",
       "      <td>39.290177</td>\n",
       "      <td>6.268188</td>\n",
       "      <td>0.469821</td>\n",
       "    </tr>\n",
       "    <tr>\n",
       "      <th>Infubinol</th>\n",
       "      <td>52.884795</td>\n",
       "      <td>51.820584</td>\n",
       "      <td>43.128684</td>\n",
       "      <td>6.567243</td>\n",
       "      <td>0.492236</td>\n",
       "    </tr>\n",
       "    <tr>\n",
       "      <th>Ketapril</th>\n",
       "      <td>55.235638</td>\n",
       "      <td>53.698743</td>\n",
       "      <td>68.553577</td>\n",
       "      <td>8.279709</td>\n",
       "      <td>0.603860</td>\n",
       "    </tr>\n",
       "    <tr>\n",
       "      <th>Naftisol</th>\n",
       "      <td>54.331565</td>\n",
       "      <td>52.509285</td>\n",
       "      <td>66.173479</td>\n",
       "      <td>8.134708</td>\n",
       "      <td>0.596466</td>\n",
       "    </tr>\n",
       "    <tr>\n",
       "      <th>Placebo</th>\n",
       "      <td>54.033581</td>\n",
       "      <td>52.288934</td>\n",
       "      <td>61.168083</td>\n",
       "      <td>7.821003</td>\n",
       "      <td>0.581331</td>\n",
       "    </tr>\n",
       "    <tr>\n",
       "      <th>Propriva</th>\n",
       "      <td>52.322552</td>\n",
       "      <td>50.854632</td>\n",
       "      <td>42.351070</td>\n",
       "      <td>6.507770</td>\n",
       "      <td>0.512884</td>\n",
       "    </tr>\n",
       "    <tr>\n",
       "      <th>Ramicane</th>\n",
       "      <td>40.216745</td>\n",
       "      <td>40.673236</td>\n",
       "      <td>23.486704</td>\n",
       "      <td>4.846308</td>\n",
       "      <td>0.320955</td>\n",
       "    </tr>\n",
       "    <tr>\n",
       "      <th>Stelasyn</th>\n",
       "      <td>54.233149</td>\n",
       "      <td>52.431737</td>\n",
       "      <td>59.450562</td>\n",
       "      <td>7.710419</td>\n",
       "      <td>0.573111</td>\n",
       "    </tr>\n",
       "    <tr>\n",
       "      <th>Zoniferol</th>\n",
       "      <td>53.236507</td>\n",
       "      <td>51.818479</td>\n",
       "      <td>48.533355</td>\n",
       "      <td>6.966589</td>\n",
       "      <td>0.516398</td>\n",
       "    </tr>\n",
       "  </tbody>\n",
       "</table>\n",
       "</div>"
      ],
      "text/plain": [
       "                   Mean     Median   Variance   Std Dev       SEM\n",
       "Drug Regimen                                                     \n",
       "Capomulin     40.675741  41.557809  24.947764  4.994774  0.329346\n",
       "Ceftamin      52.591172  51.776157  39.290177  6.268188  0.469821\n",
       "Infubinol     52.884795  51.820584  43.128684  6.567243  0.492236\n",
       "Ketapril      55.235638  53.698743  68.553577  8.279709  0.603860\n",
       "Naftisol      54.331565  52.509285  66.173479  8.134708  0.596466\n",
       "Placebo       54.033581  52.288934  61.168083  7.821003  0.581331\n",
       "Propriva      52.322552  50.854632  42.351070  6.507770  0.512884\n",
       "Ramicane      40.216745  40.673236  23.486704  4.846308  0.320955\n",
       "Stelasyn      54.233149  52.431737  59.450562  7.710419  0.573111\n",
       "Zoniferol     53.236507  51.818479  48.533355  6.966589  0.516398"
      ]
     },
     "execution_count": 2,
     "metadata": {},
     "output_type": "execute_result"
    }
   ],
   "source": [
    "# Generate a summary statistics table of mean, median, variance, standard deviation, and SEM of the tumor volume for each regimen\n",
    "\n",
    "regimen_grouped = merged_df.groupby(\"Drug Regimen\")\n",
    "mean_tumor_volume = regimen_grouped[\"Tumor Volume (mm3)\"].mean()\n",
    "median_tumor_volume = regimen_grouped[\"Tumor Volume (mm3)\"].median()\n",
    "tumor_standard_dev = regimen_grouped[\"Tumor Volume (mm3)\"].std()\n",
    "tumor_variance = regimen_grouped[\"Tumor Volume (mm3)\"].var()\n",
    "tumor_SEM = regimen_grouped[\"Tumor Volume (mm3)\"].sem()\n",
    "merge = pd.merge(mean_tumor_volume, median_tumor_volume, on=\"Drug Regimen\")\n",
    "merge = merge.rename(columns= {\"Tumor Volume (mm3)_x\":\"Mean\",\"Tumor Volume (mm3)_y\":\"Median\"})\n",
    "merge2 = pd.merge(merge, tumor_variance, on=\"Drug Regimen\")\n",
    "merge3 = pd.merge(merge2, tumor_standard_dev, on=\"Drug Regimen\")\n",
    "merge3 = merge3.rename(columns= {\"Tumor Volume (mm3)_x\":\"Variance\",\"Tumor Volume (mm3)_y\":\"Std Dev\"})\n",
    "merge4 = pd.merge(merge3, tumor_SEM, on=\"Drug Regimen\")\n",
    "merge4 = merge4.rename(columns= {\"Tumor Volume (mm3)\":\"SEM\"})\n",
    "\n",
    "merge4\n",
    "\n",
    "\n"
   ]
  },
  {
   "cell_type": "markdown",
   "metadata": {},
   "source": [
    "## Bar plots"
   ]
  },
  {
   "cell_type": "code",
   "execution_count": 3,
   "metadata": {},
   "outputs": [
    {
     "data": {
      "image/png": "[encoded data removed]",
      "text/plain": [
       "<Figure size 432x288 with 1 Axes>"
      ]
     },
     "metadata": {
      "needs_background": "light"
     },
     "output_type": "display_data"
    }
   ],
   "source": [
    "# Generate a bar plot showing number of data points for each treatment regimen using pandas\n",
    "regimen_count = regimen_grouped[\"Mouse ID\"].count()\n",
    "regimen_count = pd.DataFrame(regimen_count)\n",
    "regimen_count = regimen_count.rename(columns={\"Mouse ID\":\"# of Data Points\"})\n",
    "regimen_count.plot(kind=\"bar\", title=\"Data Points per Treatment Regimen\", color=\"Red\", width=.5)\n",
    "plt.ylabel(\"Data Points\")\n",
    "plt.tight_layout()\n",
    "plt.show()\n"
   ]
  },
  {
   "cell_type": "code",
   "execution_count": 4,
   "metadata": {},
   "outputs": [
    {
     "data": {
      "image/png": "[encoded data removed]",
      "text/plain": [
       "<Figure size 432x288 with 1 Axes>"
      ]
     },
     "metadata": {
      "needs_background": "light"
     },
     "output_type": "display_data"
    }
   ],
   "source": [
    "# Generate a bar plot showing number of data points for each treatment regimen using pyplot\n",
    "\n",
    "y = list(regimen_count[\"# of Data Points\"])\n",
    "x = np.arange(len(y))\n",
    "plt.bar(x,y,align=\"center\", color=\"red\", width=.5)\n",
    "\n",
    "tick_locations = [value for value in x]\n",
    "plt.xticks(tick_locations, list(regimen_count.index), rotation=\"vertical\")\n",
    "plt.title(\"Data Points per Treatment Regimen\")\n",
    "plt.tight_layout()\n",
    "plt.ylabel(\"Data Points\")\n",
    "plt.xlabel(\"Drug Regimen\")\n",
    "plt.legend([\"# of Data Points\"])\n",
    "plt.show()\n"
   ]
  },
  {
   "cell_type": "markdown",
   "metadata": {},
   "source": [
    "## Pie plots"
   ]
  },
  {
   "cell_type": "code",
   "execution_count": 5,
   "metadata": {},
   "outputs": [
    {
     "data": {
      "image/png": "[encoded data removed]",
      "text/plain": [
       "<Figure size 432x288 with 1 Axes>"
      ]
     },
     "metadata": {},
     "output_type": "display_data"
    }
   ],
   "source": [
    "# Generate a pie plot showing the distribution of female versus male mice using pandas\n",
    "gender_groupby = merged_df.groupby(\"Sex\")\n",
    "gender_count = pd.DataFrame(gender_groupby[\"Mouse ID\"].count())\n",
    "gender_count = gender_count.rename(columns={\"Mouse ID\":\"Count of Studies\"})\n",
    "\n",
    "gender_count.plot(kind=\"pie\", subplots=True, autopct=\"%1.2f%%\")\n",
    "plt.legend(loc=\"lower right\")\n",
    "plt.tight_layout()\n",
    "plt.show()"
   ]
  },
  {
   "cell_type": "code",
   "execution_count": 6,
   "metadata": {},
   "outputs": [
    {
     "data": {
      "image/png": "[encoded data removed]",
      "text/plain": [
       "<Figure size 432x288 with 1 Axes>"
      ]
     },
     "metadata": {},
     "output_type": "display_data"
    }
   ],
   "source": [
    "# Generate a pie plot showing the distribution of female versus male mice using pyplot\n",
    "\n",
    "labels = list(gender_count.index)\n",
    "size = list(gender_count[\"Count of Studies\"])\n",
    "plt.pie(size, labels=labels, autopct=\"%1.2f%%\")\n",
    "plt.ylabel(\"Count of Studies\")\n",
    "plt.legend(loc=\"lower right\")\n",
    "plt.tight_layout()\n",
    "plt.show()"
   ]
  },
  {
   "cell_type": "markdown",
   "metadata": {},
   "source": [
    "## Quartiles, outliers and boxplots"
   ]
  },
  {
   "cell_type": "code",
   "execution_count": 7,
   "metadata": {},
   "outputs": [
    {
     "name": "stdout",
     "output_type": "stream",
     "text": [
      "CAPOMULIN POINTS CHECKING FOR OUTLIERS\n",
      "The lower quartile of tumor points is: 32.37735684\n",
      "The upper quartile of tumor points is: 40.1592203\n",
      "The interquartile range of tumor points is: 7.781863460000004\n",
      "The the median of tumor points is: 38.125164399999996 \n",
      "Values below 20.70456164999999 could be outliers.\n",
      "Values above 51.83201549 could be outliers.\n",
      "      Tumor Volume (mm3)\n",
      "1700           23.343598\n",
      "1892           28.430964\n",
      "1720           28.484033\n",
      "1882           30.485985\n",
      "1754           31.023923\n",
      "1814           31.896238\n",
      "1690           32.377357\n",
      "1877           33.329098\n",
      "1857           34.455298\n",
      "1784           36.041047\n",
      "1834           37.074024\n",
      "1794           37.311846\n",
      "1764           38.125164\n",
      "1680           38.753265\n",
      "1844           38.846876\n",
      "1710           38.939633\n",
      "9              38.982878\n",
      "1847           39.952347\n",
      "1824           40.159220\n",
      "1774           40.658124\n",
      "1740           40.728578\n",
      "1730           41.483008\n",
      "1804           41.581521\n",
      "1744           46.539206\n",
      "1867           47.685963\n",
      "RAMICANE POINTS CHECKING FOR OUTLIERS\n",
      "The lower quartile of tumor points is: 31.56046955\n",
      "The upper quartile of tumor points is: 40.65900627\n",
      "The interquartile range of tumor points is: 9.098536719999998\n",
      "The the median of tumor points is: 36.56165229 \n",
      "Values below 17.912664470000003 could be outliers.\n",
      "Values above 54.30681135 could be outliers.\n",
      "      Tumor Volume (mm3)\n",
      "514            22.050126\n",
      "574            29.128472\n",
      "626            30.276232\n",
      "604            30.564625\n",
      "646            30.638696\n",
      "616            31.095335\n",
      "460            31.560470\n",
      "554            32.978522\n",
      "524            33.397653\n",
      "564            33.562402\n",
      "500            36.134852\n",
      "1669           36.374510\n",
      "450            36.561652\n",
      "544            37.225650\n",
      "490            37.311236\n",
      "442            38.342008\n",
      "470            38.407618\n",
      "584            38.810366\n",
      "636            40.659006\n",
      "594            40.667713\n",
      "480            43.047543\n",
      "606            43.166373\n",
      "653            43.419381\n",
      "504            44.183451\n",
      "890            45.220869\n",
      "INFUBINOL POINTS CHECKING FOR OUTLIERS\n",
      "The lower quartile of tumor points is: 54.04860769\n",
      "The upper quartile of tumor points is: 65.52574285\n",
      "The interquartile range of tumor points is: 11.477135160000003\n",
      "The the median of tumor points is: 60.16518046 \n",
      "Values below 36.83290494999999 could be outliers.\n",
      "Values above 82.74144559000001 could be outliers.\n",
      "      Tumor Volume (mm3)\n",
      "214            36.321346\n",
      "1425           45.699331\n",
      "226            46.250112\n",
      "1427           47.010364\n",
      "1449           50.005138\n",
      "1444           51.542431\n",
      "880            54.048608\n",
      "312            54.656549\n",
      "269            55.629428\n",
      "1440           55.650681\n",
      "233            57.031862\n",
      "1466           58.268442\n",
      "1434           60.165180\n",
      "1659           60.918767\n",
      "897            60.969711\n",
      "261            62.117279\n",
      "1459           62.435404\n",
      "279            62.754451\n",
      "289            65.525743\n",
      "1423           66.083066\n",
      "253            66.196912\n",
      "298            67.289621\n",
      "243            67.685569\n",
      "907            67.973419\n",
      "224            72.226731\n",
      "CEFTAMIN POINTS CHECKING FOR OUTLIERS\n",
      "The lower quartile of tumor points is: 48.72207785\n",
      "The upper quartile of tumor points is: 64.29983003\n",
      "The interquartile range of tumor points is: 15.577752179999997\n",
      "The the median of tumor points is: 59.85195552 \n",
      "Values below 25.355449580000002 could be outliers.\n",
      "Values above 87.66645829999999 could be outliers.\n",
      "      Tumor Volume (mm3)\n",
      "1401           45.000000\n",
      "1613           45.000000\n",
      "1467           45.000000\n",
      "1649           45.000000\n",
      "1316           46.784535\n",
      "1413           47.784682\n",
      "1330           48.722078\n",
      "1400           52.925348\n",
      "1344           55.742829\n",
      "1629           56.057749\n",
      "1337           57.918381\n",
      "1639           59.741901\n",
      "1384           59.851956\n",
      "1313           61.386660\n",
      "1623           61.433892\n",
      "1394           61.849023\n",
      "1487           62.999356\n",
      "1648           64.192341\n",
      "1326           64.299830\n",
      "1497           64.634949\n",
      "1364           64.729837\n",
      "1411           67.527482\n",
      "1354           67.748662\n",
      "1374           68.594745\n",
      "1477           68.923185\n"
     ]
    }
   ],
   "source": [
    "#Calculate the final tumor volume of each mouse across four of the most promising treatment regimens. \n",
    "#Capomulin, Ramicane, Infubinol, and Ceftamin.\n",
    "#Calculate the IQR and quantitatively determine if there are any potential outliers. \n",
    "by_mouse = merged_df.groupby(['Mouse ID']).tail(1)\n",
    "capomulin = by_mouse.loc[by_mouse[\"Drug Regimen\"] == \"Capomulin\"]\n",
    "ramicane = by_mouse.loc[by_mouse[\"Drug Regimen\"] == \"Ramicane\"]\n",
    "infubinol = by_mouse.loc[by_mouse[\"Drug Regimen\"] == \"Infubinol\"]\n",
    "ceftamin = by_mouse.loc[by_mouse[\"Drug Regimen\"] == \"Ceftamin\"]\n",
    "new_df = capomulin.append(ramicane)\n",
    "new_df_2 = new_df.append(infubinol)\n",
    "new_df_3 = new_df_2.append(ceftamin)\n",
    "new_df_3\n",
    "\n",
    "cap_points = capomulin[\"Tumor Volume (mm3)\"]\n",
    "ram_points = ramicane[\"Tumor Volume (mm3)\"]\n",
    "inf_points = infubinol[\"Tumor Volume (mm3)\"]\n",
    "cef_points = ceftamin[\"Tumor Volume (mm3)\"]\n",
    "\n",
    "#Capomulin - checking for outliers. \n",
    "quartiles = cap_points.quantile([.25,.5,.75])\n",
    "lowerq = quartiles[0.25]\n",
    "upperq = quartiles[0.75]\n",
    "iqr = upperq-lowerq\n",
    "print(\"CAPOMULIN POINTS CHECKING FOR OUTLIERS\")\n",
    "print(f\"The lower quartile of tumor points is: {lowerq}\")\n",
    "print(f\"The upper quartile of tumor points is: {upperq}\")\n",
    "print(f\"The interquartile range of tumor points is: {iqr}\")\n",
    "print(f\"The the median of tumor points is: {quartiles[0.5]} \")\n",
    "\n",
    "lower_bound = lowerq - (1.5*iqr)\n",
    "upper_bound = upperq + (1.5*iqr)\n",
    "print(f\"Values below {lower_bound} could be outliers.\")\n",
    "print(f\"Values above {upper_bound} could be outliers.\")\n",
    "cap_points = pd.DataFrame(cap_points)\n",
    "cap_sorted = cap_points.sort_values(\"Tumor Volume (mm3)\")\n",
    "print(cap_sorted)\n",
    "\n",
    "#Ramicane - checking for outliers. \n",
    "quartiles = ram_points.quantile([.25,.5,.75])\n",
    "lowerq = quartiles[0.25]\n",
    "upperq = quartiles[0.75]\n",
    "iqr = upperq-lowerq\n",
    "print(\"RAMICANE POINTS CHECKING FOR OUTLIERS\")\n",
    "print(f\"The lower quartile of tumor points is: {lowerq}\")\n",
    "print(f\"The upper quartile of tumor points is: {upperq}\")\n",
    "print(f\"The interquartile range of tumor points is: {iqr}\")\n",
    "print(f\"The the median of tumor points is: {quartiles[0.5]} \")\n",
    "\n",
    "lower_bound = lowerq - (1.5*iqr)\n",
    "upper_bound = upperq + (1.5*iqr)\n",
    "print(f\"Values below {lower_bound} could be outliers.\")\n",
    "print(f\"Values above {upper_bound} could be outliers.\")\n",
    "ram_points = pd.DataFrame(ram_points)\n",
    "ram_sorted = ram_points.sort_values(\"Tumor Volume (mm3)\")\n",
    "print(ram_sorted)\n",
    "\n",
    "#Infubinol - checking for outliers. \n",
    "quartiles = inf_points.quantile([.25,.5,.75])\n",
    "lowerq = quartiles[0.25]\n",
    "upperq = quartiles[0.75]\n",
    "iqr = upperq-lowerq\n",
    "print(\"INFUBINOL POINTS CHECKING FOR OUTLIERS\")\n",
    "print(f\"The lower quartile of tumor points is: {lowerq}\")\n",
    "print(f\"The upper quartile of tumor points is: {upperq}\")\n",
    "print(f\"The interquartile range of tumor points is: {iqr}\")\n",
    "print(f\"The the median of tumor points is: {quartiles[0.5]} \")\n",
    "\n",
    "lower_bound = lowerq - (1.5*iqr)\n",
    "upper_bound = upperq + (1.5*iqr)\n",
    "print(f\"Values below {lower_bound} could be outliers.\")\n",
    "print(f\"Values above {upper_bound} could be outliers.\")\n",
    "inf_points = pd.DataFrame(inf_points)\n",
    "inf_sorted = inf_points.sort_values(\"Tumor Volume (mm3)\")\n",
    "print(inf_sorted)\n",
    "\n",
    "#Ceftamin - checking for outliers. \n",
    "quartiles = cef_points.quantile([.25,.5,.75])\n",
    "lowerq = quartiles[0.25]\n",
    "upperq = quartiles[0.75]\n",
    "iqr = upperq-lowerq\n",
    "print(\"CEFTAMIN POINTS CHECKING FOR OUTLIERS\")\n",
    "print(f\"The lower quartile of tumor points is: {lowerq}\")\n",
    "print(f\"The upper quartile of tumor points is: {upperq}\")\n",
    "print(f\"The interquartile range of tumor points is: {iqr}\")\n",
    "print(f\"The the median of tumor points is: {quartiles[0.5]} \")\n",
    "\n",
    "lower_bound = lowerq - (1.5*iqr)\n",
    "upper_bound = upperq + (1.5*iqr)\n",
    "print(f\"Values below {lower_bound} could be outliers.\")\n",
    "print(f\"Values above {upper_bound} could be outliers.\")\n",
    "cef_points = pd.DataFrame(cef_points)\n",
    "cef_sorted = cef_points.sort_values(\"Tumor Volume (mm3)\")\n",
    "print(cef_sorted)\n"
   ]
  },
  {
   "cell_type": "code",
   "execution_count": 8,
   "metadata": {},
   "outputs": [
    {
     "data": {
      "image/png": "[encoded data removed]",
      "text/plain": [
       "<Figure size 432x288 with 1 Axes>"
      ]
     },
     "metadata": {
      "needs_background": "light"
     },
     "output_type": "display_data"
    }
   ],
   "source": [
    "# Generate a box plot of the final tumor volume of each mouse across four regimens of interest\n",
    "green_diamond = dict(markerfacecolor='g', marker='D')\n",
    "\n",
    "cap_points = capomulin[\"Tumor Volume (mm3)\"]\n",
    "ram_points = ramicane[\"Tumor Volume (mm3)\"]\n",
    "inf_points = infubinol[\"Tumor Volume (mm3)\"]\n",
    "cef_points = ceftamin[\"Tumor Volume (mm3)\"]\n",
    "\n",
    "\n",
    "data = [cap_points, ram_points, inf_points, cef_points]\n",
    "fig1, ax1 = plt.subplots()\n",
    "ax1.set_title(\"Final Tumor Sizes\")\n",
    "ax1.set_ylabel(\"ending tumor sizes\")\n",
    "ax1.set_xlabel(\"Drug Regimens\")\n",
    "ax1.boxplot(data, flierprops=green_diamond)\n",
    "plt.xticks([1,2,3,4],[\"Capomulin\",\"Ramicane\",\"Infubinol\",\"Ceftamin\"], rotation=45)\n",
    "plt.show()\n"
   ]
  },
  {
   "cell_type": "markdown",
   "metadata": {},
   "source": [
    "## Line and scatter plots"
   ]
  },
  {
   "cell_type": "code",
   "execution_count": 9,
   "metadata": {},
   "outputs": [
    {
     "name": "stdout",
     "output_type": "stream",
     "text": [
      "Please select a number btwn 0-24 to choose a mouse treated w/ Capomulin3\n"
     ]
    },
    {
     "data": {
      "image/png": "[encoded data removed]",
      "text/plain": [
       "<Figure size 432x288 with 1 Axes>"
      ]
     },
     "metadata": {
      "needs_background": "light"
     },
     "output_type": "display_data"
    }
   ],
   "source": [
    "# Generate a line plot of time point versus tumor volume for a mouse treated with Capomulin\n",
    "capomulin_df = merged_df.loc[merged_df[\"Drug Regimen\"]==\"Capomulin\"]\n",
    "capomulin_mice = list(capomulin_df[\"Mouse ID\"].unique())\n",
    "num = len(capomulin_mice) - 1\n",
    "user_select = int(input(f\"Please select a number btwn 0-{num} to choose a mouse treated w/ Capomulin\"))\n",
    "user_data = capomulin_df.loc[capomulin_df[\"Mouse ID\"] == capomulin_mice[user_select]]\n",
    "x_axis = user_data[\"Timepoint\"]\n",
    "title = f'MOUSE ID: {user_data[\"Mouse ID\"].unique()} TREATED w/ CAPOMULIN'\n",
    "y_axis = user_data[\"Tumor Volume (mm3)\"]\n",
    "plt.plot(x_axis, y_axis)\n",
    "plt.title(title)\n",
    "plt.xlabel(\"Time Point\")\n",
    "plt.ylabel(\"Tumor Volume (mm3)\")\n",
    "plt.tight_layout()\n",
    "plt.show()\n"
   ]
  },
  {
   "cell_type": "code",
   "execution_count": 10,
   "metadata": {},
   "outputs": [
    {
     "data": {
      "image/png": "[encoded data removed]",
      "text/plain": [
       "<Figure size 432x288 with 1 Axes>"
      ]
     },
     "metadata": {
      "needs_background": "light"
     },
     "output_type": "display_data"
    },
    {
     "name": "stdout",
     "output_type": "stream",
     "text": [
      "The correlation coefficient between time w/ Capomulin treatment and Avg Tumor Volume is -0.584\n"
     ]
    }
   ],
   "source": [
    "#random\n",
    "capomulin_df = merged_df.loc[merged_df[\"Drug Regimen\"]==\"Capomulin\"]\n",
    "x_plots = capomulin_df[\"Timepoint\"]\n",
    "y_plots = capomulin_df[\"Tumor Volume (mm3)\"]\n",
    "plt.scatter(x_plots, y_plots)\n",
    "(slope, intercept, rvalue, pvalue, stderr) = st.linregress(x_plots, y_plots)\n",
    "regress_values = x_plots * slope + intercept\n",
    "line_eq = \"y = \" + str(round(slope,2)) + \"x +\" + str(round(intercept,2))\n",
    "plt.plot(x_plots,regress_values,\"b-\")\n",
    "plt.title(\"Tumor Sizes over time for all mice treated w/ Capomulin\")\n",
    "plt.xlabel(\"Timepoint\")\n",
    "plt.ylabel(\"tumor size (mm3)\")\n",
    "plt.tight_layout()\n",
    "plt.show()\n",
    "print(f\"The correlation coefficient between time w/ Capomulin treatment and Avg Tumor Volume is {round(st.pearsonr(x_plots,y_plots)[0],3)}\")\n"
   ]
  },
  {
   "cell_type": "code",
   "execution_count": 11,
   "metadata": {},
   "outputs": [
    {
     "data": {
      "image/png": "[encoded data removed]",
      "text/plain": [
       "<Figure size 432x288 with 1 Axes>"
      ]
     },
     "metadata": {
      "needs_background": "light"
     },
     "output_type": "display_data"
    },
    {
     "name": "stdout",
     "output_type": "stream",
     "text": [
      "The correlation coefficient between Weight and Avg Tumor Volume is 0.842\n"
     ]
    }
   ],
   "source": [
    "# Generate a scatter plot of mouse weight versus average tumor volume for the Capomulin regimen\n",
    "capomulin_df_gb = capomulin_df.groupby(\"Mouse ID\")\n",
    "scatter_df_weight_volume = capomulin_df_gb.mean()\n",
    "y_plots = scatter_df_weight_volume[\"Tumor Volume (mm3)\"]\n",
    "x_plots = scatter_df_weight_volume[\"Weight (g)\"]\n",
    "\n",
    "(slope, intercept, rvalue, pvalue, stderr) = st.linregress(x_plots, y_plots)\n",
    "regress_values = x_plots * slope + intercept\n",
    "line_eq = \"y = \" + str(round(slope,2)) + \"x +\" + str(round(intercept,2))\n",
    "\n",
    "plt.scatter(x_plots, y_plots)\n",
    "plt.plot(x_plots,regress_values,\"b-\")\n",
    "plt.annotate(line_eq,(15,45),fontsize=15,color=\"red\")\n",
    "plt.title(\"SCATTER PLOT: AVG TUMOR VOLUME and MOUSE WEIGHT\")\n",
    "plt.xlabel(\"Weight\")\n",
    "plt.ylabel(\"Avg Tumor Volume\")\n",
    "plt.show()\n",
    "# Calculate the correlation coefficient and linear regression model for mouse weight and average tumor volume for the Capomulin regimen\n",
    "print(f\"The correlation coefficient between Weight and Avg Tumor Volume is {round(st.pearsonr(x_plots,y_plots)[0],3)}\")\n",
    "#print(x_plots.corr(y_plots))\n"
   ]
  },
  {
   "cell_type": "code",
   "execution_count": 12,
   "metadata": {},
   "outputs": [
    {
     "data": {
      "image/png": "[encoded data removed]",
      "text/plain": [
       "<Figure size 432x288 with 1 Axes>"
      ]
     },
     "metadata": {
      "needs_background": "light"
     },
     "output_type": "display_data"
    },
    {
     "name": "stdout",
     "output_type": "stream",
     "text": [
      "The correlation coefficient between Weight and Avg Tumor Volume for all mice in all studies is 0.659\n"
     ]
    }
   ],
   "source": [
    "#random\n",
    "all_weights = merged_df.groupby(\"Mouse ID\")\n",
    "scatter_df_weight_all = all_weights.mean()\n",
    "y_plots = scatter_df_weight_all[\"Tumor Volume (mm3)\"]\n",
    "x_plots = scatter_df_weight_all[\"Weight (g)\"]\n",
    "\n",
    "(slope, intercept, rvalue, pvalue, stderr) = st.linregress(x_plots, y_plots)\n",
    "regress_values = x_plots * slope + intercept\n",
    "line_eq = \"y = \" + str(round(slope,2)) + \"x +\" + str(round(intercept,2))\n",
    "\n",
    "plt.scatter(x_plots, y_plots)\n",
    "plt.plot(x_plots,regress_values,\"b-\")\n",
    "plt.annotate(line_eq,(15,45),fontsize=15,color=\"red\")\n",
    "plt.title(\"SCATTER PLOT: AVG TUMOR VOLUME and MOUSE WEIGHT\")\n",
    "plt.xlabel(\"Weight\")\n",
    "plt.ylabel(\"Avg Tumor Volume\")\n",
    "plt.show()\n",
    "# Calculate the correlation coefficient and linear regression model for mouse weight and average tumor volume for the Capomulin regimen\n",
    "print(f\"The correlation coefficient between Weight and Avg Tumor Volume for all mice in all studies is {round(st.pearsonr(x_plots,y_plots)[0],3)}\")\n",
    "#print(x_plots.corr(y_plots))"
   ]
  },
  {
   "cell_type": "code",
   "execution_count": null,
   "metadata": {},
   "outputs": [],
   "source": []
  }
 ],
 "metadata": {
  "anaconda-cloud": {},
  "kernelspec": {
   "display_name": "Python 3",
   "language": "python",
   "name": "python3"
  },
  "language_info": {
   "codemirror_mode": {
    "name": "ipython",
    "version": 3
   },
   "file_extension": ".py",
   "mimetype": "text/x-python",
   "name": "python",
   "nbconvert_exporter": "python",
   "pygments_lexer": "ipython3",
   "version": "3.8.1"
  }
 },
 "nbformat": 4,
 "nbformat_minor": 4
}
